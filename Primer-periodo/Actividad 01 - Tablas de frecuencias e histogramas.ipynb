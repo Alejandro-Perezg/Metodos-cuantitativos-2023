{
 "cells": [
  {
   "cell_type": "markdown",
   "id": "44d241e4",
   "metadata": {},
   "source": [
    "\\begin{center}\n",
    "       \\vspace*{1cm}\n",
    "\n",
    "\n",
    "            \n",
    "       \\vspace{1.5cm}\n",
    "\n",
    "       \\textbf{Alejandro Pérez Gonzalez}\n",
    "       A01746643\\\\\n",
    "       \\vspace{0.8cm}\n",
    "       Tec de Monterrey\\\\\n",
    "       \\vfill\n",
    "            \n",
    "   \\end{center}"
   ]
  },
  {
   "cell_type": "markdown",
   "id": "69c20d06",
   "metadata": {},
   "source": [
    "# Hello"
   ]
  },
  {
   "cell_type": "code",
   "execution_count": null,
   "id": "0f586d85",
   "metadata": {},
   "outputs": [],
   "source": []
  }
 ],
 "metadata": {
  "kernelspec": {
   "display_name": "Python 3 (ipykernel)",
   "language": "python",
   "name": "python3"
  },
  "language_info": {
   "codemirror_mode": {
    "name": "ipython",
    "version": 3
   },
   "file_extension": ".py",
   "mimetype": "text/x-python",
   "name": "python",
   "nbconvert_exporter": "python",
   "pygments_lexer": "ipython3",
   "version": "3.10.9"
  }
 },
 "nbformat": 4,
 "nbformat_minor": 5
}
